{
 "cells": [
  {
   "cell_type": "markdown",
   "id": "696cdf78-f873-43c8-9d64-99ca236317fe",
   "metadata": {},
   "source": [
    "# Linear Regression"
   ]
  },
  {
   "cell_type": "code",
   "execution_count": null,
   "id": "e15343cf-00c1-403c-8fda-a8d66100b919",
   "metadata": {},
   "outputs": [],
   "source": [
    "import pandas as pd\n",
    "\n",
    "%matplotlib inline\n",
    "import matplotlib.pyplot as plt\n",
    "from sklearn.linear_model import LinearRegression\n",
    "from sklearn.model_selection import train_test_split\n"
   ]
  },
  {
   "cell_type": "markdown",
   "id": "6684c9f2-1678-4526-93cd-c6bbac92f063",
   "metadata": {},
   "source": [
    "## salar based on year exerinene"
   ]
  },
  {
   "cell_type": "code",
   "execution_count": null,
   "id": "a48fc649-f924-4b8c-90aa-5df8e561bec5",
   "metadata": {},
   "outputs": [],
   "source": [
    "data = pd.read_csv(\"Car_Purchasing_Data.csv\")"
   ]
  },
  {
   "cell_type": "code",
   "execution_count": null,
   "id": "c621bd05-58c1-44a0-bd24-12dec0f943f8",
   "metadata": {},
   "outputs": [],
   "source": [
    "data.head(5)"
   ]
  },
  {
   "cell_type": "code",
   "execution_count": null,
   "id": "f997d2dc-cb7f-491e-8d63-e73fafbdc5d9",
   "metadata": {},
   "outputs": [],
   "source": [
    "data.describe()"
   ]
  },
  {
   "cell_type": "code",
   "execution_count": null,
   "id": "1833897b-104e-4d60-8b26-6b4990294d33",
   "metadata": {},
   "outputs": [],
   "source": [
    "X = data[\"Age\"].values"
   ]
  },
  {
   "cell_type": "code",
   "execution_count": null,
   "id": "17810af8-0102-45ad-b9ab-b2269a5dfb6d",
   "metadata": {},
   "outputs": [],
   "source": [
    "X"
   ]
  },
  {
   "cell_type": "code",
   "execution_count": null,
   "id": "f96fdca9-3c86-44e9-907d-ee697b3ed4dd",
   "metadata": {},
   "outputs": [],
   "source": [
    "Y=  data[\"Car Purchase Amount\"].values"
   ]
  },
  {
   "cell_type": "code",
   "execution_count": null,
   "id": "69a9c33d-48e4-401b-bdbc-828252ede071",
   "metadata": {},
   "outputs": [],
   "source": [
    "Y"
   ]
  },
  {
   "cell_type": "code",
   "execution_count": null,
   "id": "182b8cef-2b45-4058-8223-efcc2b8b5bbe",
   "metadata": {},
   "outputs": [],
   "source": [
    "x_train,x_test,y_train,y_test=train_test_split(X,Y, train_size=0.8,test_size=0.2,random_state=17)"
   ]
  },
  {
   "cell_type": "code",
   "execution_count": null,
   "id": "9a92b5cf-c5f2-4044-8d52-944175d79fd4",
   "metadata": {},
   "outputs": [],
   "source": [
    "x_train"
   ]
  },
  {
   "cell_type": "code",
   "execution_count": null,
   "id": "bfb02593-34fa-4197-88df-e0c5606d4582",
   "metadata": {},
   "outputs": [],
   "source": [
    "y_train"
   ]
  },
  {
   "cell_type": "code",
   "execution_count": null,
   "id": "03127255-b4df-47b7-afa9-c8336b9ad7a5",
   "metadata": {},
   "outputs": [],
   "source": [
    "x_test"
   ]
  },
  {
   "cell_type": "code",
   "execution_count": null,
   "id": "cc04bb01-d527-4c34-96dc-df18fdd6e87e",
   "metadata": {},
   "outputs": [],
   "source": [
    "y_test"
   ]
  },
  {
   "cell_type": "markdown",
   "id": "6d097837-4c61-41ff-bcc5-7ff6858f0ad0",
   "metadata": {},
   "source": [
    "## let's create the linear regression  model"
   ]
  },
  {
   "cell_type": "code",
   "execution_count": null,
   "id": "93516722-23ba-48d6-ad3a-829fc005a5b5",
   "metadata": {},
   "outputs": [],
   "source": [
    "model = LinearRegression()"
   ]
  },
  {
   "cell_type": "code",
   "execution_count": null,
   "id": "e371289a-94ca-489b-8061-e386a9633857",
   "metadata": {},
   "outputs": [],
   "source": [
    "model.fit(x_train.reshape(-1, 1),y_train)"
   ]
  },
  {
   "cell_type": "code",
   "execution_count": null,
   "id": "b646255b-1cb9-41ea-bf1d-f9be80b94c45",
   "metadata": {},
   "outputs": [],
   "source": [
    "model"
   ]
  },
  {
   "cell_type": "markdown",
   "id": "13d40bce-dbe7-40bb-b020-5ad1fb04ca51",
   "metadata": {},
   "source": [
    "## predict output based on regression  odel"
   ]
  },
  {
   "cell_type": "code",
   "execution_count": null,
   "id": "2c436bcc-9cfa-4395-9f36-571071b36860",
   "metadata": {},
   "outputs": [],
   "source": [
    "y_predict = model.predict(x_test.reshape(-1,1))"
   ]
  },
  {
   "cell_type": "code",
   "execution_count": null,
   "id": "b1460bd3-fb6e-4259-bbde-a67e8987bfb3",
   "metadata": {},
   "outputs": [],
   "source": [
    "y_predict"
   ]
  },
  {
   "cell_type": "code",
   "execution_count": null,
   "id": "0b335b09-8823-4044-b338-1af52f411b7e",
   "metadata": {},
   "outputs": [],
   "source": [
    "y_test"
   ]
  },
  {
   "cell_type": "markdown",
   "id": "6c6ffbf7-f0b0-4db5-ad80-a046fc52390b",
   "metadata": {},
   "source": [
    "##  calculate accuracy"
   ]
  },
  {
   "cell_type": "code",
   "execution_count": null,
   "id": "886fa3ba-00bd-4427-ad42-056d3d835f4d",
   "metadata": {},
   "outputs": [],
   "source": [
    "train_accuracy = model.score(x_train.reshape(-1,1),y_train)"
   ]
  },
  {
   "cell_type": "code",
   "execution_count": null,
   "id": "e3c9d809-0310-4250-8981-80edc39ca6ab",
   "metadata": {},
   "outputs": [],
   "source": [
    "train_accuracy"
   ]
  },
  {
   "cell_type": "code",
   "execution_count": null,
   "id": "d8adec11-e24e-4233-a40b-f155c6fc07cb",
   "metadata": {},
   "outputs": [],
   "source": [
    "test_accuracy = model.score(x_test.reshape(-1,1),y_test)"
   ]
  },
  {
   "cell_type": "code",
   "execution_count": null,
   "id": "ad0badf9-be1d-4082-9ca3-1352ee4faf42",
   "metadata": {},
   "outputs": [],
   "source": [
    "test_accuracy"
   ]
  },
  {
   "cell_type": "markdown",
   "id": "bb24cf89-59e1-4a6c-b087-64e88cff198d",
   "metadata": {},
   "source": [
    "## give specifi year of experience how much money you will make "
   ]
  },
  {
   "cell_type": "code",
   "execution_count": null,
   "id": "967379d9-7ecf-4903-9e92-df0e8cc0d3d5",
   "metadata": {},
   "outputs": [],
   "source": [
    "import numpy as np\n",
    "new_data=np.array([6]).reshape(-1,1)"
   ]
  },
  {
   "cell_type": "code",
   "execution_count": null,
   "id": "4e8a2055-4ef2-40dd-b628-fadb407aeb8e",
   "metadata": {},
   "outputs": [],
   "source": [
    "new_data"
   ]
  },
  {
   "cell_type": "code",
   "execution_count": null,
   "id": "035d3c29-3b3a-478d-b13a-8ce659702c18",
   "metadata": {},
   "outputs": [],
   "source": [
    "model.predict(new_data)"
   ]
  },
  {
   "cell_type": "markdown",
   "id": "58cd2741-8a4e-49ad-8a3b-bab7afa23064",
   "metadata": {},
   "source": [
    "## plottimg"
   ]
  },
  {
   "cell_type": "code",
   "execution_count": null,
   "id": "f4517e84-ab2b-4b18-b9ea-d137f6a6d16e",
   "metadata": {},
   "outputs": [],
   "source": [
    "plt.scatter(X,Y,color='blue')\n",
    "plt.xlabel('years of experience')\n",
    "plt.ylabel('salary')\n",
    "plt.title('salary data')"
   ]
  },
  {
   "cell_type": "code",
   "execution_count": null,
   "id": "d456b17e-a96b-444a-8dde-3250b6084203",
   "metadata": {},
   "outputs": [],
   "source": [
    "plt.scatter(x_test,y_test,color='blue')\n",
    "plt.scatter(x_test,y_predict,color='red')\n",
    "plt.xlabel('years of experience')\n",
    "plt.ylabel('salary')\n",
    "plt.title('actual vs predicted data')"
   ]
  },
  {
   "cell_type": "code",
   "execution_count": null,
   "id": "c0cbfc81-d614-4dd2-a23a-5eae4515c731",
   "metadata": {},
   "outputs": [],
   "source": [
    "plt.scatter(X,Y,color='blue')\n",
    "plt.scatter(x_test,y_predict,color='red')\n",
    "plt.xlabel('years of experience')\n",
    "plt.ylabel('salary')\n",
    "plt.title('salary vs predicted data')"
   ]
  },
  {
   "cell_type": "code",
   "execution_count": null,
   "id": "d5aff84e-a6a4-42c5-b2a5-7fe37ca453ae",
   "metadata": {},
   "outputs": [],
   "source": []
  }
 ],
 "metadata": {
  "kernelspec": {
   "display_name": "Python 3 (ipykernel)",
   "language": "python",
   "name": "python3"
  },
  "language_info": {
   "codemirror_mode": {
    "name": "ipython",
    "version": 3
   },
   "file_extension": ".py",
   "mimetype": "text/x-python",
   "name": "python",
   "nbconvert_exporter": "python",
   "pygments_lexer": "ipython3",
   "version": "3.9.5"
  }
 },
 "nbformat": 4,
 "nbformat_minor": 5
}
